{
  "nbformat": 4,
  "nbformat_minor": 0,
  "metadata": {
    "colab": {
      "provenance": []
    },
    "kernelspec": {
      "name": "python3",
      "display_name": "Python 3"
    },
    "language_info": {
      "name": "python"
    }
  },
  "cells": [
    {
      "cell_type": "code",
      "execution_count": 6,
      "metadata": {
        "id": "A7nkXeDi9L4l"
      },
      "outputs": [],
      "source": []
    },
    {
      "cell_type": "code",
      "source": [
        "import numpy as np\n",
        "import matplotlib.pyplot as plt\n",
        "from planar_utils import plot_decision_boundary, sigmoid, load_planar_dataset\n",
        "from testCases import *\n",
        "\n",
        "# Load dataset\n",
        "X, Y = load_planar_dataset()\n",
        "\n",
        "# Forward + Backward NN Model\n",
        "def layer_sizes(X, Y, n_h):\n",
        "    n_x = X.shape[0]\n",
        "    n_y = Y.shape[0]\n",
        "    return (n_x, n_h, n_y)\n",
        "\n",
        "def initialize_parameters(n_x, n_h, n_y):\n",
        "    np.random.seed(2)\n",
        "    W1 = np.random.randn(n_h, n_x) * 0.01\n",
        "    b1 = np.zeros((n_h, 1))\n",
        "    W2 = np.random.randn(n_y, n_h) * 0.01\n",
        "    b2 = np.zeros((n_y, 1))\n",
        "    return {\"W1\": W1, \"b1\": b1, \"W2\": W2, \"b2\": b2}\n",
        "\n",
        "def sigmoid(z):\n",
        "    return 1/(1+np.exp(-z))\n",
        "\n",
        "def forward_propagation(X, parameters):\n",
        "    W1 = parameters['W1']; b1 = parameters['b1']\n",
        "    W2 = parameters['W2']; b2 = parameters['b2']\n",
        "    Z1 = np.dot(W1, X) + b1\n",
        "    A1 = np.tanh(Z1)\n",
        "    Z2 = np.dot(W2, A1) + b2\n",
        "    A2 = sigmoid(Z2)\n",
        "    cache = {\"Z1\": Z1, \"A1\": A1, \"Z2\": Z2, \"A2\": A2}\n",
        "    return A2, cache\n",
        "\n",
        "def compute_cost(A2, Y, parameters):\n",
        "    m = Y.shape[1]\n",
        "    logprobs = np.multiply(np.log(A2),Y) + np.multiply((1-Y), np.log(1-A2))\n",
        "    cost = - np.sum(logprobs) / m\n",
        "    return float(np.squeeze(cost))\n",
        "\n",
        "def backward_propagation(parameters, cache, X, Y):\n",
        "    m = X.shape[1]\n",
        "    W1 = parameters['W1']; W2 = parameters['W2']\n",
        "    A1 = cache['A1']; A2 = cache['A2']\n",
        "\n",
        "    dZ2 = A2 - Y\n",
        "    dW2 = (1/m) * np.dot(dZ2, A1.T)\n",
        "    db2 = (1/m) * np.sum(dZ2, axis=1, keepdims=True)\n",
        "    dZ1 = np.multiply(np.dot(W2.T, dZ2), 1 - np.power(A1,2))\n",
        "    dW1 = (1/m) * np.dot(dZ1, X.T)\n",
        "    db1 = (1/m) * np.sum(dZ1, axis=1, keepdims=True)\n",
        "\n",
        "    grads = {\"dW1\": dW1, \"db1\": db1, \"dW2\": dW2, \"db2\": db2}\n",
        "    return grads\n",
        "\n",
        "def update_parameters(parameters, grads, learning_rate=1.2):\n",
        "    W1 = parameters['W1'] - learning_rate * grads['dW1']\n",
        "    b1 = parameters['b1'] - learning_rate * grads['db1']\n",
        "    W2 = parameters['W2'] - learning_rate * grads['dW2']\n",
        "    b2 = parameters['b2'] - learning_rate * grads['db2']\n",
        "    return {\"W1\": W1, \"b1\": b1, \"W2\": W2, \"b2\": b2}\n",
        "\n",
        "def nn_model(X, Y, n_h, num_iterations=5000, print_cost=False):\n",
        "    np.random.seed(3)\n",
        "    n_x = X.shape[0]; n_y = Y.shape[0]\n",
        "    parameters = initialize_parameters(n_x, n_h, n_y)\n",
        "    for i in range(num_iterations):\n",
        "        A2, cache = forward_propagation(X, parameters)\n",
        "        cost = compute_cost(A2, Y, parameters)\n",
        "        grads = backward_propagation(parameters, cache, X, Y)\n",
        "        parameters = update_parameters(parameters, grads)\n",
        "        if print_cost and i % 1000 == 0:\n",
        "            print(f\"Iteration {i}, cost {cost}\")\n",
        "    return parameters\n",
        "\n",
        "def predict(parameters, X):\n",
        "    A2, cache = forward_propagation(X, parameters)\n",
        "    return (A2 > 0.5)\n",
        "\n",
        "# Hidden Layer Sizes Experiment\n",
        "hidden_layer_sizes = [1, 2, 3, 4, 5, 20, 50]\n",
        "for i, n_h in enumerate(hidden_layer_sizes):\n",
        "    parameters = nn_model(X, Y, n_h, num_iterations = 5000)\n",
        "    predictions = predict(parameters, X)\n",
        "    accuracy = float((np.dot(Y,predictions.T) + np.dot(1-Y,1-predictions.T))/float(Y.size)*100)\n",
        "    print (\"Accuracy for {} hidden units: {} %\".format(n_h, accuracy))\n"
      ],
      "metadata": {
        "colab": {
          "base_uri": "https://localhost:8080/"
        },
        "id": "ODNupw4P-qyB",
        "outputId": "553fd4a6-eb7c-409b-c7c1-b29ffc0b98fe"
      },
      "execution_count": 7,
      "outputs": [
        {
          "output_type": "stream",
          "name": "stderr",
          "text": [
            "/tmp/ipython-input-3790490119.py:86: DeprecationWarning: Conversion of an array with ndim > 0 to a scalar is deprecated, and will error in future. Ensure you extract a single element from your array before performing this operation. (Deprecated NumPy 1.25.)\n",
            "  accuracy = float((np.dot(Y,predictions.T) + np.dot(1-Y,1-predictions.T))/float(Y.size)*100)\n"
          ]
        },
        {
          "output_type": "stream",
          "name": "stdout",
          "text": [
            "Accuracy for 1 hidden units: 67.5 %\n",
            "Accuracy for 2 hidden units: 67.25 %\n",
            "Accuracy for 3 hidden units: 90.75 %\n",
            "Accuracy for 4 hidden units: 90.5 %\n",
            "Accuracy for 5 hidden units: 91.25 %\n",
            "Accuracy for 20 hidden units: 90.5 %\n",
            "Accuracy for 50 hidden units: 90.75 %\n"
          ]
        }
      ]
    },
    {
      "cell_type": "code",
      "source": [],
      "metadata": {
        "id": "xCQrI9ZHGO9f"
      },
      "execution_count": 7,
      "outputs": []
    }
  ]
}