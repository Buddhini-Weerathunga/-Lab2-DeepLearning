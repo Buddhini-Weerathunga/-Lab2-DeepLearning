{
  "nbformat": 4,
  "nbformat_minor": 0,
  "metadata": {
    "colab": {
      "provenance": []
    },
    "kernelspec": {
      "name": "python3",
      "display_name": "Python 3"
    },
    "language_info": {
      "name": "python"
    }
  },
  "cells": [
    {
      "cell_type": "code",
      "execution_count": 5,
      "metadata": {
        "id": "A7nkXeDi9L4l"
      },
      "outputs": [],
      "source": []
    },
    {
      "cell_type": "code",
      "source": [
        "\n",
        "# Backpropagation Example\n",
        "\n",
        "import numpy as np\n",
        "import matplotlib.pyplot as plt\n",
        "\n",
        "# Sigmoid activation function\n",
        "def sigmoid(x):\n",
        "    return 1 / (1 + np.exp(-x))\n",
        "\n",
        "def sigmoid_derivative(x):\n",
        "    return x * (1 - x)\n",
        "\n",
        "# Input dataset\n",
        "X = np.array([[0,0],\n",
        "              [0,1],\n",
        "              [1,0],\n",
        "              [1,1]])\n",
        "\n",
        "# Output dataset\n",
        "y = np.array([[0],\n",
        "              [1],\n",
        "              [1],\n",
        "              [0]])\n",
        "\n",
        "# Set random seed\n",
        "np.random.seed(1)\n",
        "\n",
        "# Initialize weights randomly\n",
        "weights_input_hidden = 2*np.random.random((2,4)) - 1\n",
        "weights_hidden_output = 2*np.random.random((4,1)) - 1\n",
        "\n",
        "# Training parameters\n",
        "epochs = 10000  # <-- Increased iterations\n",
        "lr = 0.1\n",
        "\n",
        "for epoch in range(epochs):\n",
        "    # Forward pass\n",
        "    input_layer = X\n",
        "    hidden_layer = sigmoid(np.dot(input_layer, weights_input_hidden))\n",
        "    output_layer = sigmoid(np.dot(hidden_layer, weights_hidden_output))\n",
        "\n",
        "    # Calculate error\n",
        "    error = y - output_layer\n",
        "\n",
        "    # Backpropagation\n",
        "    d_output = error * sigmoid_derivative(output_layer)\n",
        "    d_hidden = d_output.dot(weights_hidden_output.T) * sigmoid_derivative(hidden_layer)\n",
        "\n",
        "    # Update weights\n",
        "    weights_hidden_output += hidden_layer.T.dot(d_output) * lr\n",
        "    weights_input_hidden += input_layer.T.dot(d_hidden) * lr\n",
        "\n",
        "    if epoch % 1000 == 0:\n",
        "        acc = 1 - np.mean(np.abs(error))\n",
        "        print(f\"Epoch {epoch}, Accuracy: {acc:.4f}\")\n",
        "\n",
        "print(\"Final predictions:\")\n",
        "print(output_layer)\n"
      ],
      "metadata": {
        "colab": {
          "base_uri": "https://localhost:8080/"
        },
        "id": "ODNupw4P-qyB",
        "outputId": "b1cf4da6-b2b0-40a0-d1f6-79b0c4ab2231"
      },
      "execution_count": 6,
      "outputs": [
        {
          "output_type": "stream",
          "name": "stdout",
          "text": [
            "Epoch 0, Accuracy: 0.5005\n",
            "Epoch 1000, Accuracy: 0.5092\n",
            "Epoch 2000, Accuracy: 0.5717\n",
            "Epoch 3000, Accuracy: 0.6280\n",
            "Epoch 4000, Accuracy: 0.6745\n",
            "Epoch 5000, Accuracy: 0.7304\n",
            "Epoch 6000, Accuracy: 0.8209\n",
            "Epoch 7000, Accuracy: 0.8610\n",
            "Epoch 8000, Accuracy: 0.8834\n",
            "Epoch 9000, Accuracy: 0.8981\n",
            "Final predictions:\n",
            "[[0.09582216]\n",
            " [0.91579748]\n",
            " [0.91080081]\n",
            " [0.0959464 ]]\n"
          ]
        }
      ]
    },
    {
      "cell_type": "code",
      "source": [],
      "metadata": {
        "id": "xCQrI9ZHGO9f"
      },
      "execution_count": 6,
      "outputs": []
    }
  ]
}